{
  "nbformat": 4,
  "nbformat_minor": 0,
  "metadata": {
    "colab": {
      "provenance": [],
      "authorship_tag": "ABX9TyP9diPrGT/05c8/TJ19rgku",
      "include_colab_link": true
    },
    "kernelspec": {
      "name": "python3",
      "display_name": "Python 3"
    },
    "language_info": {
      "name": "python"
    }
  },
  "cells": [
    {
      "cell_type": "markdown",
      "metadata": {
        "id": "view-in-github",
        "colab_type": "text"
      },
      "source": [
        "<a href=\"https://colab.research.google.com/github/morteza80mr/Farsi-Predictive-Typing-App/blob/main/Farsi_Predictive_Typing_App_Using_Trie_Based_Autocomplete_System.ipynb\" target=\"_parent\"><img src=\"https://colab.research.google.com/assets/colab-badge.svg\" alt=\"Open In Colab\"/></a>"
      ]
    },
    {
      "cell_type": "code",
      "source": [
        "!pip install --upgrade --no-no-cache-dir gdown\n",
        "!gdown 1MnFrHCY_b-2-OzovvqBt3xl18YbVyM_l\n",
        "!gdown 1BCq9MTIDzqIH5v9BPNE72rW3UHdzIzcX"
      ],
      "metadata": {
        "colab": {
          "base_uri": "https://localhost:8080/"
        },
        "id": "gSqYFyvKWwsi",
        "outputId": "52b94844-caf5-4228-c7aa-e09e31fcf3f7"
      },
      "execution_count": 17,
      "outputs": [
        {
          "output_type": "stream",
          "name": "stdout",
          "text": [
            "\n",
            "Usage:   \n",
            "  pip3 install [options] <requirement specifier> [package-index-options] ...\n",
            "  pip3 install [options] -r <requirements file> [package-index-options] ...\n",
            "  pip3 install [options] [-e] <vcs project url> ...\n",
            "  pip3 install [options] [-e] <local project path> ...\n",
            "  pip3 install [options] <archive url/path> ...\n",
            "\n",
            "no such option: --no-no-cache-dir\n",
            "Downloading...\n",
            "From: https://drive.google.com/uc?id=1MnFrHCY_b-2-OzovvqBt3xl18YbVyM_l\n",
            "To: /content/pos_tagger.model\n",
            "100% 19.2M/19.2M [00:00<00:00, 70.7MB/s]\n",
            "Downloading...\n",
            "From: https://drive.google.com/uc?id=1BCq9MTIDzqIH5v9BPNE72rW3UHdzIzcX\n",
            "To: /content/farsi_word_frequency.db\n",
            "100% 4.03M/4.03M [00:00<00:00, 45.4MB/s]\n"
          ]
        }
      ]
    },
    {
      "cell_type": "code",
      "execution_count": 18,
      "metadata": {
        "colab": {
          "base_uri": "https://localhost:8080/"
        },
        "id": "Lp_j3JTO2IjG",
        "outputId": "472fcf95-b414-4e43-babe-161633c33ac8"
      },
      "outputs": [
        {
          "output_type": "stream",
          "name": "stdout",
          "text": [
            "Requirement already satisfied: pandas in /usr/local/lib/python3.10/dist-packages (2.2.2)\n",
            "Requirement already satisfied: sqlalchemy in /usr/local/lib/python3.10/dist-packages (2.0.36)\n",
            "Requirement already satisfied: numpy>=1.22.4 in /usr/local/lib/python3.10/dist-packages (from pandas) (1.24.3)\n",
            "Requirement already satisfied: python-dateutil>=2.8.2 in /usr/local/lib/python3.10/dist-packages (from pandas) (2.8.2)\n",
            "Requirement already satisfied: pytz>=2020.1 in /usr/local/lib/python3.10/dist-packages (from pandas) (2024.2)\n",
            "Requirement already satisfied: tzdata>=2022.7 in /usr/local/lib/python3.10/dist-packages (from pandas) (2024.2)\n",
            "Requirement already satisfied: typing-extensions>=4.6.0 in /usr/local/lib/python3.10/dist-packages (from sqlalchemy) (4.12.2)\n",
            "Requirement already satisfied: greenlet!=0.4.17 in /usr/local/lib/python3.10/dist-packages (from sqlalchemy) (3.1.1)\n",
            "Requirement already satisfied: six>=1.5 in /usr/local/lib/python3.10/dist-packages (from python-dateutil>=2.8.2->pandas) (1.17.0)\n"
          ]
        }
      ],
      "source": [
        "pip install pandas sqlalchemy"
      ]
    },
    {
      "cell_type": "code",
      "source": [
        "import pandas as pd\n",
        "from sqlalchemy import create_engine\n",
        "\n",
        "# Create a database engine\n",
        "db_file = '/content/farsi_word_frequency.db'\n",
        "engine = create_engine(f'sqlite:///{db_file}')\n",
        "\n",
        "# Read a table into a DataFrame\n",
        "table_name = 'word'\n",
        "df = pd.read_sql_table(table_name, con=engine)\n",
        "\n",
        "# Display the DataFrame\n",
        "df"
      ],
      "metadata": {
        "colab": {
          "base_uri": "https://localhost:8080/",
          "height": 424
        },
        "id": "0t7EOUH02kSo",
        "outputId": "d34a3cf2-a87d-4a9f-cf1c-a299eb40f99b"
      },
      "execution_count": 19,
      "outputs": [
        {
          "output_type": "execute_result",
          "data": {
            "text/plain": [
              "            id           word  count\n",
              "0            1          انوشه    919\n",
              "1            2           آسیه   1974\n",
              "2            3     اتمامِ‌حجت      1\n",
              "3            4       ده‌سالگی    489\n",
              "4            5  به‌هم‌پیوستگی    819\n",
              "...        ...            ...    ...\n",
              "141248  141249        هم‌نامی     32\n",
              "141249  141250        زیرپائی     16\n",
              "141250  141251      ارّه‌موئی      0\n",
              "141251  141252        ادّعائی      0\n",
              "141252  141253        اتّکائی      0\n",
              "\n",
              "[141253 rows x 3 columns]"
            ],
            "text/html": [
              "\n",
              "  <div id=\"df-059bb8bc-cead-476f-9a1f-5215bd0d23f3\" class=\"colab-df-container\">\n",
              "    <div>\n",
              "<style scoped>\n",
              "    .dataframe tbody tr th:only-of-type {\n",
              "        vertical-align: middle;\n",
              "    }\n",
              "\n",
              "    .dataframe tbody tr th {\n",
              "        vertical-align: top;\n",
              "    }\n",
              "\n",
              "    .dataframe thead th {\n",
              "        text-align: right;\n",
              "    }\n",
              "</style>\n",
              "<table border=\"1\" class=\"dataframe\">\n",
              "  <thead>\n",
              "    <tr style=\"text-align: right;\">\n",
              "      <th></th>\n",
              "      <th>id</th>\n",
              "      <th>word</th>\n",
              "      <th>count</th>\n",
              "    </tr>\n",
              "  </thead>\n",
              "  <tbody>\n",
              "    <tr>\n",
              "      <th>0</th>\n",
              "      <td>1</td>\n",
              "      <td>انوشه</td>\n",
              "      <td>919</td>\n",
              "    </tr>\n",
              "    <tr>\n",
              "      <th>1</th>\n",
              "      <td>2</td>\n",
              "      <td>آسیه</td>\n",
              "      <td>1974</td>\n",
              "    </tr>\n",
              "    <tr>\n",
              "      <th>2</th>\n",
              "      <td>3</td>\n",
              "      <td>اتمامِ‌حجت</td>\n",
              "      <td>1</td>\n",
              "    </tr>\n",
              "    <tr>\n",
              "      <th>3</th>\n",
              "      <td>4</td>\n",
              "      <td>ده‌سالگی</td>\n",
              "      <td>489</td>\n",
              "    </tr>\n",
              "    <tr>\n",
              "      <th>4</th>\n",
              "      <td>5</td>\n",
              "      <td>به‌هم‌پیوستگی</td>\n",
              "      <td>819</td>\n",
              "    </tr>\n",
              "    <tr>\n",
              "      <th>...</th>\n",
              "      <td>...</td>\n",
              "      <td>...</td>\n",
              "      <td>...</td>\n",
              "    </tr>\n",
              "    <tr>\n",
              "      <th>141248</th>\n",
              "      <td>141249</td>\n",
              "      <td>هم‌نامی</td>\n",
              "      <td>32</td>\n",
              "    </tr>\n",
              "    <tr>\n",
              "      <th>141249</th>\n",
              "      <td>141250</td>\n",
              "      <td>زیرپائی</td>\n",
              "      <td>16</td>\n",
              "    </tr>\n",
              "    <tr>\n",
              "      <th>141250</th>\n",
              "      <td>141251</td>\n",
              "      <td>ارّه‌موئی</td>\n",
              "      <td>0</td>\n",
              "    </tr>\n",
              "    <tr>\n",
              "      <th>141251</th>\n",
              "      <td>141252</td>\n",
              "      <td>ادّعائی</td>\n",
              "      <td>0</td>\n",
              "    </tr>\n",
              "    <tr>\n",
              "      <th>141252</th>\n",
              "      <td>141253</td>\n",
              "      <td>اتّکائی</td>\n",
              "      <td>0</td>\n",
              "    </tr>\n",
              "  </tbody>\n",
              "</table>\n",
              "<p>141253 rows × 3 columns</p>\n",
              "</div>\n",
              "    <div class=\"colab-df-buttons\">\n",
              "\n",
              "  <div class=\"colab-df-container\">\n",
              "    <button class=\"colab-df-convert\" onclick=\"convertToInteractive('df-059bb8bc-cead-476f-9a1f-5215bd0d23f3')\"\n",
              "            title=\"Convert this dataframe to an interactive table.\"\n",
              "            style=\"display:none;\">\n",
              "\n",
              "  <svg xmlns=\"http://www.w3.org/2000/svg\" height=\"24px\" viewBox=\"0 -960 960 960\">\n",
              "    <path d=\"M120-120v-720h720v720H120Zm60-500h600v-160H180v160Zm220 220h160v-160H400v160Zm0 220h160v-160H400v160ZM180-400h160v-160H180v160Zm440 0h160v-160H620v160ZM180-180h160v-160H180v160Zm440 0h160v-160H620v160Z\"/>\n",
              "  </svg>\n",
              "    </button>\n",
              "\n",
              "  <style>\n",
              "    .colab-df-container {\n",
              "      display:flex;\n",
              "      gap: 12px;\n",
              "    }\n",
              "\n",
              "    .colab-df-convert {\n",
              "      background-color: #E8F0FE;\n",
              "      border: none;\n",
              "      border-radius: 50%;\n",
              "      cursor: pointer;\n",
              "      display: none;\n",
              "      fill: #1967D2;\n",
              "      height: 32px;\n",
              "      padding: 0 0 0 0;\n",
              "      width: 32px;\n",
              "    }\n",
              "\n",
              "    .colab-df-convert:hover {\n",
              "      background-color: #E2EBFA;\n",
              "      box-shadow: 0px 1px 2px rgba(60, 64, 67, 0.3), 0px 1px 3px 1px rgba(60, 64, 67, 0.15);\n",
              "      fill: #174EA6;\n",
              "    }\n",
              "\n",
              "    .colab-df-buttons div {\n",
              "      margin-bottom: 4px;\n",
              "    }\n",
              "\n",
              "    [theme=dark] .colab-df-convert {\n",
              "      background-color: #3B4455;\n",
              "      fill: #D2E3FC;\n",
              "    }\n",
              "\n",
              "    [theme=dark] .colab-df-convert:hover {\n",
              "      background-color: #434B5C;\n",
              "      box-shadow: 0px 1px 3px 1px rgba(0, 0, 0, 0.15);\n",
              "      filter: drop-shadow(0px 1px 2px rgba(0, 0, 0, 0.3));\n",
              "      fill: #FFFFFF;\n",
              "    }\n",
              "  </style>\n",
              "\n",
              "    <script>\n",
              "      const buttonEl =\n",
              "        document.querySelector('#df-059bb8bc-cead-476f-9a1f-5215bd0d23f3 button.colab-df-convert');\n",
              "      buttonEl.style.display =\n",
              "        google.colab.kernel.accessAllowed ? 'block' : 'none';\n",
              "\n",
              "      async function convertToInteractive(key) {\n",
              "        const element = document.querySelector('#df-059bb8bc-cead-476f-9a1f-5215bd0d23f3');\n",
              "        const dataTable =\n",
              "          await google.colab.kernel.invokeFunction('convertToInteractive',\n",
              "                                                    [key], {});\n",
              "        if (!dataTable) return;\n",
              "\n",
              "        const docLinkHtml = 'Like what you see? Visit the ' +\n",
              "          '<a target=\"_blank\" href=https://colab.research.google.com/notebooks/data_table.ipynb>data table notebook</a>'\n",
              "          + ' to learn more about interactive tables.';\n",
              "        element.innerHTML = '';\n",
              "        dataTable['output_type'] = 'display_data';\n",
              "        await google.colab.output.renderOutput(dataTable, element);\n",
              "        const docLink = document.createElement('div');\n",
              "        docLink.innerHTML = docLinkHtml;\n",
              "        element.appendChild(docLink);\n",
              "      }\n",
              "    </script>\n",
              "  </div>\n",
              "\n",
              "\n",
              "<div id=\"df-85893738-0f11-4380-bd03-4f9ae1ae12db\">\n",
              "  <button class=\"colab-df-quickchart\" onclick=\"quickchart('df-85893738-0f11-4380-bd03-4f9ae1ae12db')\"\n",
              "            title=\"Suggest charts\"\n",
              "            style=\"display:none;\">\n",
              "\n",
              "<svg xmlns=\"http://www.w3.org/2000/svg\" height=\"24px\"viewBox=\"0 0 24 24\"\n",
              "     width=\"24px\">\n",
              "    <g>\n",
              "        <path d=\"M19 3H5c-1.1 0-2 .9-2 2v14c0 1.1.9 2 2 2h14c1.1 0 2-.9 2-2V5c0-1.1-.9-2-2-2zM9 17H7v-7h2v7zm4 0h-2V7h2v10zm4 0h-2v-4h2v4z\"/>\n",
              "    </g>\n",
              "</svg>\n",
              "  </button>\n",
              "\n",
              "<style>\n",
              "  .colab-df-quickchart {\n",
              "      --bg-color: #E8F0FE;\n",
              "      --fill-color: #1967D2;\n",
              "      --hover-bg-color: #E2EBFA;\n",
              "      --hover-fill-color: #174EA6;\n",
              "      --disabled-fill-color: #AAA;\n",
              "      --disabled-bg-color: #DDD;\n",
              "  }\n",
              "\n",
              "  [theme=dark] .colab-df-quickchart {\n",
              "      --bg-color: #3B4455;\n",
              "      --fill-color: #D2E3FC;\n",
              "      --hover-bg-color: #434B5C;\n",
              "      --hover-fill-color: #FFFFFF;\n",
              "      --disabled-bg-color: #3B4455;\n",
              "      --disabled-fill-color: #666;\n",
              "  }\n",
              "\n",
              "  .colab-df-quickchart {\n",
              "    background-color: var(--bg-color);\n",
              "    border: none;\n",
              "    border-radius: 50%;\n",
              "    cursor: pointer;\n",
              "    display: none;\n",
              "    fill: var(--fill-color);\n",
              "    height: 32px;\n",
              "    padding: 0;\n",
              "    width: 32px;\n",
              "  }\n",
              "\n",
              "  .colab-df-quickchart:hover {\n",
              "    background-color: var(--hover-bg-color);\n",
              "    box-shadow: 0 1px 2px rgba(60, 64, 67, 0.3), 0 1px 3px 1px rgba(60, 64, 67, 0.15);\n",
              "    fill: var(--button-hover-fill-color);\n",
              "  }\n",
              "\n",
              "  .colab-df-quickchart-complete:disabled,\n",
              "  .colab-df-quickchart-complete:disabled:hover {\n",
              "    background-color: var(--disabled-bg-color);\n",
              "    fill: var(--disabled-fill-color);\n",
              "    box-shadow: none;\n",
              "  }\n",
              "\n",
              "  .colab-df-spinner {\n",
              "    border: 2px solid var(--fill-color);\n",
              "    border-color: transparent;\n",
              "    border-bottom-color: var(--fill-color);\n",
              "    animation:\n",
              "      spin 1s steps(1) infinite;\n",
              "  }\n",
              "\n",
              "  @keyframes spin {\n",
              "    0% {\n",
              "      border-color: transparent;\n",
              "      border-bottom-color: var(--fill-color);\n",
              "      border-left-color: var(--fill-color);\n",
              "    }\n",
              "    20% {\n",
              "      border-color: transparent;\n",
              "      border-left-color: var(--fill-color);\n",
              "      border-top-color: var(--fill-color);\n",
              "    }\n",
              "    30% {\n",
              "      border-color: transparent;\n",
              "      border-left-color: var(--fill-color);\n",
              "      border-top-color: var(--fill-color);\n",
              "      border-right-color: var(--fill-color);\n",
              "    }\n",
              "    40% {\n",
              "      border-color: transparent;\n",
              "      border-right-color: var(--fill-color);\n",
              "      border-top-color: var(--fill-color);\n",
              "    }\n",
              "    60% {\n",
              "      border-color: transparent;\n",
              "      border-right-color: var(--fill-color);\n",
              "    }\n",
              "    80% {\n",
              "      border-color: transparent;\n",
              "      border-right-color: var(--fill-color);\n",
              "      border-bottom-color: var(--fill-color);\n",
              "    }\n",
              "    90% {\n",
              "      border-color: transparent;\n",
              "      border-bottom-color: var(--fill-color);\n",
              "    }\n",
              "  }\n",
              "</style>\n",
              "\n",
              "  <script>\n",
              "    async function quickchart(key) {\n",
              "      const quickchartButtonEl =\n",
              "        document.querySelector('#' + key + ' button');\n",
              "      quickchartButtonEl.disabled = true;  // To prevent multiple clicks.\n",
              "      quickchartButtonEl.classList.add('colab-df-spinner');\n",
              "      try {\n",
              "        const charts = await google.colab.kernel.invokeFunction(\n",
              "            'suggestCharts', [key], {});\n",
              "      } catch (error) {\n",
              "        console.error('Error during call to suggestCharts:', error);\n",
              "      }\n",
              "      quickchartButtonEl.classList.remove('colab-df-spinner');\n",
              "      quickchartButtonEl.classList.add('colab-df-quickchart-complete');\n",
              "    }\n",
              "    (() => {\n",
              "      let quickchartButtonEl =\n",
              "        document.querySelector('#df-85893738-0f11-4380-bd03-4f9ae1ae12db button');\n",
              "      quickchartButtonEl.style.display =\n",
              "        google.colab.kernel.accessAllowed ? 'block' : 'none';\n",
              "    })();\n",
              "  </script>\n",
              "</div>\n",
              "\n",
              "  <div id=\"id_4670e150-c304-4ecd-b044-7440723a4cb0\">\n",
              "    <style>\n",
              "      .colab-df-generate {\n",
              "        background-color: #E8F0FE;\n",
              "        border: none;\n",
              "        border-radius: 50%;\n",
              "        cursor: pointer;\n",
              "        display: none;\n",
              "        fill: #1967D2;\n",
              "        height: 32px;\n",
              "        padding: 0 0 0 0;\n",
              "        width: 32px;\n",
              "      }\n",
              "\n",
              "      .colab-df-generate:hover {\n",
              "        background-color: #E2EBFA;\n",
              "        box-shadow: 0px 1px 2px rgba(60, 64, 67, 0.3), 0px 1px 3px 1px rgba(60, 64, 67, 0.15);\n",
              "        fill: #174EA6;\n",
              "      }\n",
              "\n",
              "      [theme=dark] .colab-df-generate {\n",
              "        background-color: #3B4455;\n",
              "        fill: #D2E3FC;\n",
              "      }\n",
              "\n",
              "      [theme=dark] .colab-df-generate:hover {\n",
              "        background-color: #434B5C;\n",
              "        box-shadow: 0px 1px 3px 1px rgba(0, 0, 0, 0.15);\n",
              "        filter: drop-shadow(0px 1px 2px rgba(0, 0, 0, 0.3));\n",
              "        fill: #FFFFFF;\n",
              "      }\n",
              "    </style>\n",
              "    <button class=\"colab-df-generate\" onclick=\"generateWithVariable('df')\"\n",
              "            title=\"Generate code using this dataframe.\"\n",
              "            style=\"display:none;\">\n",
              "\n",
              "  <svg xmlns=\"http://www.w3.org/2000/svg\" height=\"24px\"viewBox=\"0 0 24 24\"\n",
              "       width=\"24px\">\n",
              "    <path d=\"M7,19H8.4L18.45,9,17,7.55,7,17.6ZM5,21V16.75L18.45,3.32a2,2,0,0,1,2.83,0l1.4,1.43a1.91,1.91,0,0,1,.58,1.4,1.91,1.91,0,0,1-.58,1.4L9.25,21ZM18.45,9,17,7.55Zm-12,3A5.31,5.31,0,0,0,4.9,8.1,5.31,5.31,0,0,0,1,6.5,5.31,5.31,0,0,0,4.9,4.9,5.31,5.31,0,0,0,6.5,1,5.31,5.31,0,0,0,8.1,4.9,5.31,5.31,0,0,0,12,6.5,5.46,5.46,0,0,0,6.5,12Z\"/>\n",
              "  </svg>\n",
              "    </button>\n",
              "    <script>\n",
              "      (() => {\n",
              "      const buttonEl =\n",
              "        document.querySelector('#id_4670e150-c304-4ecd-b044-7440723a4cb0 button.colab-df-generate');\n",
              "      buttonEl.style.display =\n",
              "        google.colab.kernel.accessAllowed ? 'block' : 'none';\n",
              "\n",
              "      buttonEl.onclick = () => {\n",
              "        google.colab.notebook.generateWithVariable('df');\n",
              "      }\n",
              "      })();\n",
              "    </script>\n",
              "  </div>\n",
              "\n",
              "    </div>\n",
              "  </div>\n"
            ],
            "application/vnd.google.colaboratory.intrinsic+json": {
              "type": "dataframe",
              "variable_name": "df"
            }
          },
          "metadata": {},
          "execution_count": 19
        }
      ]
    },
    {
      "cell_type": "code",
      "source": [
        "!pip uninstall -y hazm"
      ],
      "metadata": {
        "colab": {
          "base_uri": "https://localhost:8080/"
        },
        "id": "DoVgBWePQjYa",
        "outputId": "8f9fc001-0df1-406d-ecd8-6f90ef9c977b"
      },
      "execution_count": 20,
      "outputs": [
        {
          "output_type": "stream",
          "name": "stdout",
          "text": [
            "Found existing installation: hazm 0.10.0\n",
            "Uninstalling hazm-0.10.0:\n",
            "  Successfully uninstalled hazm-0.10.0\n"
          ]
        }
      ]
    },
    {
      "cell_type": "code",
      "source": [
        "# Install Hazm\n",
        "!pip install hazm"
      ],
      "metadata": {
        "colab": {
          "base_uri": "https://localhost:8080/"
        },
        "id": "goFsicSO7q4I",
        "outputId": "13822eb0-be5a-49a9-9a16-82f136e1002b"
      },
      "execution_count": 21,
      "outputs": [
        {
          "output_type": "stream",
          "name": "stdout",
          "text": [
            "Collecting hazm\n",
            "  Using cached hazm-0.10.0-py3-none-any.whl.metadata (11 kB)\n",
            "Requirement already satisfied: fasttext-wheel<0.10.0,>=0.9.2 in /usr/local/lib/python3.10/dist-packages (from hazm) (0.9.2)\n",
            "Requirement already satisfied: flashtext<3.0,>=2.7 in /usr/local/lib/python3.10/dist-packages (from hazm) (2.7)\n",
            "Requirement already satisfied: gensim<5.0.0,>=4.3.1 in /usr/local/lib/python3.10/dist-packages (from hazm) (4.3.3)\n",
            "Requirement already satisfied: nltk<4.0.0,>=3.8.1 in /usr/local/lib/python3.10/dist-packages (from hazm) (3.9.1)\n",
            "Requirement already satisfied: numpy==1.24.3 in /usr/local/lib/python3.10/dist-packages (from hazm) (1.24.3)\n",
            "Requirement already satisfied: python-crfsuite<0.10.0,>=0.9.9 in /usr/local/lib/python3.10/dist-packages (from hazm) (0.9.11)\n",
            "Requirement already satisfied: scikit-learn<2.0.0,>=1.2.2 in /usr/local/lib/python3.10/dist-packages (from hazm) (1.6.0)\n",
            "Requirement already satisfied: pybind11>=2.2 in /usr/local/lib/python3.10/dist-packages (from fasttext-wheel<0.10.0,>=0.9.2->hazm) (2.13.6)\n",
            "Requirement already satisfied: setuptools>=0.7.0 in /usr/local/lib/python3.10/dist-packages (from fasttext-wheel<0.10.0,>=0.9.2->hazm) (75.1.0)\n",
            "Requirement already satisfied: scipy<1.14.0,>=1.7.0 in /usr/local/lib/python3.10/dist-packages (from gensim<5.0.0,>=4.3.1->hazm) (1.13.1)\n",
            "Requirement already satisfied: smart-open>=1.8.1 in /usr/local/lib/python3.10/dist-packages (from gensim<5.0.0,>=4.3.1->hazm) (7.1.0)\n",
            "Requirement already satisfied: click in /usr/local/lib/python3.10/dist-packages (from nltk<4.0.0,>=3.8.1->hazm) (8.1.7)\n",
            "Requirement already satisfied: joblib in /usr/local/lib/python3.10/dist-packages (from nltk<4.0.0,>=3.8.1->hazm) (1.4.2)\n",
            "Requirement already satisfied: regex>=2021.8.3 in /usr/local/lib/python3.10/dist-packages (from nltk<4.0.0,>=3.8.1->hazm) (2024.11.6)\n",
            "Requirement already satisfied: tqdm in /usr/local/lib/python3.10/dist-packages (from nltk<4.0.0,>=3.8.1->hazm) (4.67.1)\n",
            "Requirement already satisfied: threadpoolctl>=3.1.0 in /usr/local/lib/python3.10/dist-packages (from scikit-learn<2.0.0,>=1.2.2->hazm) (3.5.0)\n",
            "Requirement already satisfied: wrapt in /usr/local/lib/python3.10/dist-packages (from smart-open>=1.8.1->gensim<5.0.0,>=4.3.1->hazm) (1.17.0)\n",
            "Using cached hazm-0.10.0-py3-none-any.whl (892 kB)\n",
            "Installing collected packages: hazm\n",
            "Successfully installed hazm-0.10.0\n"
          ]
        }
      ]
    },
    {
      "cell_type": "code",
      "source": [
        "from hazm import Normalizer, word_tokenize, Stemmer, Lemmatizer, POSTagger\n",
        "\n",
        "# Initialize Hazm components\n",
        "normalizer = Normalizer()\n",
        "stemmer = Stemmer()\n",
        "lemmatizer = Lemmatizer()\n",
        "tagger = POSTagger(model='/content/pos_tagger.model')"
      ],
      "metadata": {
        "id": "YV8p0-LBO8NQ"
      },
      "execution_count": 22,
      "outputs": []
    },
    {
      "cell_type": "code",
      "source": [
        "# Sample Farsi text\n",
        "text = 'این یک متن نمونه است که شامل حروف فارسی می‌باشد.'\n",
        "\n",
        "# Normalize the text\n",
        "normalized_text = normalizer.normalize(text)\n",
        "\n",
        "# Tokenize the text\n",
        "tokens = word_tokenize(normalized_text)\n",
        "\n",
        "# Perform POS tagging\n",
        "pos_tags = tagger.tag(tokens)\n",
        "\n",
        "# Display the results\n",
        "print('Normalized Text:', normalized_text)\n",
        "print('Tokens:', tokens)\n",
        "print('POS Tags:', pos_tags)"
      ],
      "metadata": {
        "colab": {
          "base_uri": "https://localhost:8080/"
        },
        "id": "BB8KPUB78U3P",
        "outputId": "db492477-6985-4bd8-fedf-2250a842d14f"
      },
      "execution_count": 23,
      "outputs": [
        {
          "output_type": "stream",
          "name": "stdout",
          "text": [
            "Normalized Text: این یک متن نمونه است که شامل حروف فارسی می‌باشد.\n",
            "Tokens: ['این', 'یک', 'متن', 'نمونه', 'است', 'که', 'شامل', 'حروف', 'فارسی', 'می\\u200cباشد', '.']\n",
            "POS Tags: [('این', 'PRON'), ('یک', 'NUM'), ('متن', 'NOUN,EZ'), ('نمونه', 'ADJ'), ('است', 'VERB'), ('که', 'SCONJ'), ('شامل', 'ADJ,EZ'), ('حروف', 'NOUN,EZ'), ('فارسی', 'NOUN'), ('می\\u200cباشد', 'VERB'), ('.', 'PUNCT')]\n"
          ]
        }
      ]
    },
    {
      "cell_type": "code",
      "source": [
        "# Normalize the words\n",
        "df['word_normalized'] = df['word'].apply(normalizer.normalize)"
      ],
      "metadata": {
        "id": "4eY0Jmd_SavZ"
      },
      "execution_count": 24,
      "outputs": []
    },
    {
      "cell_type": "markdown",
      "source": [
        "**Build the Trie Data Structure :**\n",
        "Implement a trie where each node represents a character, and the path from the root to a node represents a prefix or complete word."
      ],
      "metadata": {
        "id": "kFE_dUIBVQ_r"
      }
    },
    {
      "cell_type": "code",
      "source": [
        "class TrieNode:\n",
        "    def __init__(self):\n",
        "        self.children = {}\n",
        "        self.is_end_of_word = False\n",
        "        self.frequency = 0  # Store word frequency at the end node\n",
        "\n",
        "class Trie:\n",
        "    def __init__(self):\n",
        "        self.root = TrieNode()\n",
        "\n",
        "    def insert(self, word, frequency):\n",
        "        node = self.root\n",
        "        for char in word:\n",
        "            # If the character is not already a child, add it\n",
        "            if char not in node.children:\n",
        "                node.children[char] = TrieNode()\n",
        "            node = node.children[char]\n",
        "        # Mark the end of the word and store frequency\n",
        "        node.is_end_of_word = True\n",
        "        node.frequency = frequency\n",
        "\n",
        "    def search(self, prefix):\n",
        "        node = self.root\n",
        "        for char in prefix:\n",
        "            if char not in node.children:\n",
        "                return None  # No words with this prefix\n",
        "            node = node.children[char]\n",
        "        return node\n",
        "\n",
        "    def autocomplete(self, prefix):\n",
        "        node = self.search(prefix)\n",
        "        if not node:\n",
        "            return []\n",
        "\n",
        "        suggestions = []\n",
        "        self._dfs(node, prefix, suggestions)\n",
        "        # Sort suggestions by frequency in descending order\n",
        "        suggestions.sort(key=lambda x: x[1], reverse=True)\n",
        "        return suggestions\n",
        "\n",
        "    def _dfs(self, node, prefix, suggestions):\n",
        "        if node.is_end_of_word:\n",
        "            suggestions.append((prefix, node.frequency))\n",
        "        for char, child_node in node.children.items():\n",
        "            self._dfs(child_node, prefix + char, suggestions)"
      ],
      "metadata": {
        "id": "qKBWznePVJoJ"
      },
      "execution_count": 25,
      "outputs": []
    },
    {
      "cell_type": "markdown",
      "source": [
        "**Populate the Trie with Data:**\n",
        "Insert all normalized words from your data frame into the trie."
      ],
      "metadata": {
        "id": "YtFZ6JmJVZmw"
      }
    },
    {
      "cell_type": "code",
      "source": [
        "trie = Trie()\n",
        "\n",
        "for index, row in df.iterrows():\n",
        "    word = row['word_normalized']\n",
        "    frequency = row['count']\n",
        "    trie.insert(word, frequency)"
      ],
      "metadata": {
        "id": "HZe4voHDVbWg"
      },
      "execution_count": 26,
      "outputs": []
    },
    {
      "cell_type": "markdown",
      "source": [
        "**Implement the Autocomplete Functionality :**\n",
        "Create a function that takes user input and returns the top suggestions."
      ],
      "metadata": {
        "id": "p4ZuKP59VtvR"
      }
    },
    {
      "cell_type": "code",
      "source": [
        "def get_suggestions(trie, user_input, top_n=10):\n",
        "    normalized_input = normalizer.normalize(user_input)\n",
        "    suggestions = trie.autocomplete(normalized_input)\n",
        "    return suggestions[:top_n]\n",
        "\n",
        "# Example usage:\n",
        "user_input = 'خرو'\n",
        "suggestions = get_suggestions(trie, user_input)\n",
        "\n",
        "for word, freq in suggestions:\n",
        "    print(f'Suggested word: {word}, Frequency: {freq}')"
      ],
      "metadata": {
        "colab": {
          "base_uri": "https://localhost:8080/"
        },
        "id": "0P-Pj6HXVlWR",
        "outputId": "874b874e-8f91-43dc-c08b-414ce6303599"
      },
      "execution_count": 27,
      "outputs": [
        {
          "output_type": "stream",
          "name": "stdout",
          "text": [
            "Suggested word: خروجی, Frequency: 246342\n",
            "Suggested word: خروج, Frequency: 119686\n",
            "Suggested word: خروشنده, Frequency: 12137\n",
            "Suggested word: خروش, Frequency: 6707\n",
            "Suggested word: خروس, Frequency: 3900\n",
            "Suggested word: خروشان, Frequency: 2412\n",
            "Suggested word: خروشچف, Frequency: 1445\n",
            "Suggested word: خروار, Frequency: 878\n",
            "Suggested word: خروشی, Frequency: 424\n",
            "Suggested word: خروشانی, Frequency: 252\n"
          ]
        }
      ]
    },
    {
      "cell_type": "code",
      "source": [
        "!pip install transformers"
      ],
      "metadata": {
        "colab": {
          "base_uri": "https://localhost:8080/"
        },
        "id": "ypRUAdaAl3kT",
        "outputId": "c991580a-b20e-4630-8cbf-d1b816e4f7eb"
      },
      "execution_count": 28,
      "outputs": [
        {
          "output_type": "stream",
          "name": "stdout",
          "text": [
            "Requirement already satisfied: transformers in /usr/local/lib/python3.10/dist-packages (4.47.1)\n",
            "Requirement already satisfied: filelock in /usr/local/lib/python3.10/dist-packages (from transformers) (3.16.1)\n",
            "Requirement already satisfied: huggingface-hub<1.0,>=0.24.0 in /usr/local/lib/python3.10/dist-packages (from transformers) (0.27.0)\n",
            "Requirement already satisfied: numpy>=1.17 in /usr/local/lib/python3.10/dist-packages (from transformers) (1.24.3)\n",
            "Requirement already satisfied: packaging>=20.0 in /usr/local/lib/python3.10/dist-packages (from transformers) (24.2)\n",
            "Requirement already satisfied: pyyaml>=5.1 in /usr/local/lib/python3.10/dist-packages (from transformers) (6.0.2)\n",
            "Requirement already satisfied: regex!=2019.12.17 in /usr/local/lib/python3.10/dist-packages (from transformers) (2024.11.6)\n",
            "Requirement already satisfied: requests in /usr/local/lib/python3.10/dist-packages (from transformers) (2.32.3)\n",
            "Requirement already satisfied: tokenizers<0.22,>=0.21 in /usr/local/lib/python3.10/dist-packages (from transformers) (0.21.0)\n",
            "Requirement already satisfied: safetensors>=0.4.1 in /usr/local/lib/python3.10/dist-packages (from transformers) (0.4.5)\n",
            "Requirement already satisfied: tqdm>=4.27 in /usr/local/lib/python3.10/dist-packages (from transformers) (4.67.1)\n",
            "Requirement already satisfied: fsspec>=2023.5.0 in /usr/local/lib/python3.10/dist-packages (from huggingface-hub<1.0,>=0.24.0->transformers) (2024.10.0)\n",
            "Requirement already satisfied: typing-extensions>=3.7.4.3 in /usr/local/lib/python3.10/dist-packages (from huggingface-hub<1.0,>=0.24.0->transformers) (4.12.2)\n",
            "Requirement already satisfied: charset-normalizer<4,>=2 in /usr/local/lib/python3.10/dist-packages (from requests->transformers) (3.4.0)\n",
            "Requirement already satisfied: idna<4,>=2.5 in /usr/local/lib/python3.10/dist-packages (from requests->transformers) (3.10)\n",
            "Requirement already satisfied: urllib3<3,>=1.21.1 in /usr/local/lib/python3.10/dist-packages (from requests->transformers) (2.2.3)\n",
            "Requirement already satisfied: certifi>=2017.4.17 in /usr/local/lib/python3.10/dist-packages (from requests->transformers) (2024.12.14)\n"
          ]
        }
      ]
    },
    {
      "cell_type": "markdown",
      "source": [
        "**Import Libraries**"
      ],
      "metadata": {
        "id": "nnVdNwX2toRN"
      }
    },
    {
      "cell_type": "code",
      "source": [
        "from transformers import AutoTokenizer, TFAutoModelForCausalLM"
      ],
      "metadata": {
        "id": "IiLq4BvKl-IB"
      },
      "execution_count": 29,
      "outputs": []
    },
    {
      "cell_type": "markdown",
      "source": [
        "**Load the GPT2FA Model and Tokenizer**"
      ],
      "metadata": {
        "id": "SqLeEC9Qtsr5"
      }
    },
    {
      "cell_type": "code",
      "source": [
        "tokenizer = AutoTokenizer.from_pretrained(\"HooshvareLab/gpt2-fa\")\n",
        "model = TFAutoModelForCausalLM.from_pretrained(\"HooshvareLab/gpt2-fa\")"
      ],
      "metadata": {
        "colab": {
          "base_uri": "https://localhost:8080/"
        },
        "id": "aghTFmHWmxeU",
        "outputId": "fb5e903d-a369-4e7d-c32a-eb8a2bdc9bf8"
      },
      "execution_count": 30,
      "outputs": [
        {
          "output_type": "stream",
          "name": "stderr",
          "text": [
            "All model checkpoint layers were used when initializing TFGPT2LMHeadModel.\n",
            "\n",
            "All the layers of TFGPT2LMHeadModel were initialized from the model checkpoint at HooshvareLab/gpt2-fa.\n",
            "If your task is similar to the task the model of the checkpoint was trained on, you can already use TFGPT2LMHeadModel for predictions without further training.\n"
          ]
        }
      ]
    },
    {
      "cell_type": "markdown",
      "source": [
        "Encode the Input Text"
      ],
      "metadata": {
        "id": "3Xdbk2Cat1Bq"
      }
    },
    {
      "cell_type": "code",
      "source": [
        "# Encode the input text\n",
        "input_ids = tokenizer.encode(normalized_text, return_tensors='pt')"
      ],
      "metadata": {
        "id": "zV9-gbBBqXod"
      },
      "execution_count": 31,
      "outputs": []
    },
    {
      "cell_type": "markdown",
      "source": [
        "Generate Predictions"
      ],
      "metadata": {
        "id": "szVYbtrat3qJ"
      }
    },
    {
      "cell_type": "code",
      "source": [
        "# Generate output\n",
        "# TensorFlow does not require `eval` or `torch.no_grad`\n",
        "# You can directly use the model's `generate` method\n",
        "\n",
        "# Generate tokens after the input text\n",
        "outputs = model.generate(\n",
        "    input_ids,\n",
        "    max_length=input_ids.shape[1] + 5,  # Generate up to 5 additional tokens\n",
        "    do_sample=True,\n",
        "    top_k=50,\n",
        "    top_p=0.95,\n",
        "    num_return_sequences=1\n",
        ")\n",
        "\n",
        "# Decode the generated tokens\n",
        "generated_text = tokenizer.decode(outputs[0], skip_special_tokens=True)\n",
        "\n",
        "# Extract the predicted next word(s)\n",
        "predicted_text = generated_text[len(normalized_text):].strip()\n",
        "predicted_words = predicted_text.split()\n",
        "next_word = predicted_words[0] if predicted_words else ''\n",
        "print(f\"Predicted next word: {next_word}\")"
      ],
      "metadata": {
        "colab": {
          "base_uri": "https://localhost:8080/"
        },
        "id": "c-4GL3kar60l",
        "outputId": "c11dec2b-3ffc-42af-ab1b-4e09d3177d8d"
      },
      "execution_count": 37,
      "outputs": [
        {
          "output_type": "stream",
          "name": "stderr",
          "text": [
            "The attention mask and the pad token id were not set. As a consequence, you may observe unexpected behavior. Please pass your input's `attention_mask` to obtain reliable results.\n",
            "Setting `pad_token_id` to `eos_token_id`:5 for open-end generation.\n"
          ]
        },
        {
          "output_type": "stream",
          "name": "stdout",
          "text": [
            "Predicted next word: نمونه‌هایی\n"
          ]
        }
      ]
    },
    {
      "cell_type": "markdown",
      "source": [
        "Function for Predicting Next Word"
      ],
      "metadata": {
        "id": "0E_L-dqEt8SR"
      }
    },
    {
      "cell_type": "code",
      "source": [
        "def predict_next_word(input_text, model, tokenizer, normalizer, max_new_tokens=5):\n",
        "    # Normalize the input text\n",
        "    normalized_text = normalizer.normalize(input_text)\n",
        "    # Encode the input text (TensorFlow expects `return_tensors='tf'`)\n",
        "    input_ids = tokenizer.encode(normalized_text, return_tensors='tf')\n",
        "    # Generate predictions\n",
        "    outputs = model.generate(\n",
        "        input_ids,\n",
        "        max_length=input_ids.shape[1] + max_new_tokens,\n",
        "        do_sample=True,\n",
        "        top_k=50,\n",
        "        top_p=0.95,\n",
        "        num_return_sequences=1\n",
        "    )\n",
        "    # Decode the generated tokens\n",
        "    generated_text = tokenizer.decode(outputs[0], skip_special_tokens=True)\n",
        "    # Extract the predicted next word\n",
        "    predicted_text = generated_text[len(normalized_text):].strip()\n",
        "    predicted_words = predicted_text.split()\n",
        "    next_word = predicted_words[0] if predicted_words else ''\n",
        "    return next_word\n",
        "\n",
        "# Example usage\n",
        "input_text = \"دیروز به\"\n",
        "next_word = predict_next_word(input_text, model, tokenizer, normalizer)\n",
        "print(f\"Input text: {input_text}\")\n",
        "print(f\"Predicted next word: {next_word}\")"
      ],
      "metadata": {
        "colab": {
          "base_uri": "https://localhost:8080/"
        },
        "id": "u2AbZXcBs1at",
        "outputId": "8880730e-272d-461c-9ad0-59abd7eae150"
      },
      "execution_count": 39,
      "outputs": [
        {
          "output_type": "stream",
          "name": "stderr",
          "text": [
            "The attention mask and the pad token id were not set. As a consequence, you may observe unexpected behavior. Please pass your input's `attention_mask` to obtain reliable results.\n",
            "Setting `pad_token_id` to `eos_token_id`:5 for open-end generation.\n"
          ]
        },
        {
          "output_type": "stream",
          "name": "stdout",
          "text": [
            "Input text: دیروز به\n",
            "Predicted next word: واسطه\n"
          ]
        }
      ]
    },
    {
      "cell_type": "markdown",
      "source": [
        "Function for Predicting Next Word"
      ],
      "metadata": {
        "id": "vF1dSvXst9Gx"
      }
    },
    {
      "cell_type": "code",
      "source": [
        "def predict_next_word(input_text, model, tokenizer, normalizer, max_new_tokens=5):\n",
        "    # Normalize the input text\n",
        "    normalized_text = normalizer.normalize(input_text)\n",
        "    # Encode the input text (TensorFlow expects `return_tensors='tf'`)\n",
        "    input_ids = tokenizer.encode(normalized_text, return_tensors='tf')\n",
        "    # Generate predictions\n",
        "    outputs = model.generate(\n",
        "        input_ids,\n",
        "        max_length=input_ids.shape[1] + max_new_tokens,\n",
        "        do_sample=True,\n",
        "        top_k=50,\n",
        "        top_p=0.95,\n",
        "        num_return_sequences=1\n",
        "    )\n",
        "    # Decode the generated tokens\n",
        "    generated_text = tokenizer.decode(outputs[0], skip_special_tokens=True)\n",
        "    # Extract the predicted next word\n",
        "    predicted_text = generated_text[len(normalized_text):].strip()\n",
        "    predicted_words = predicted_text.split()\n",
        "    next_word = predicted_words[0] if predicted_words else ''\n",
        "    return next_word\n",
        "\n",
        "# Example usage\n",
        "input_text = \"دیروز به\"\n",
        "next_word = predict_next_word(input_text, model, tokenizer, normalizer)\n",
        "print(f\"Input text: {input_text}\")\n",
        "print(f\"Predicted next word: {next_word}\")"
      ],
      "metadata": {
        "colab": {
          "base_uri": "https://localhost:8080/"
        },
        "id": "B_Wd_XiOt9vi",
        "outputId": "0257c1c6-24b4-4055-b986-bf6767e1044b"
      },
      "execution_count": 41,
      "outputs": [
        {
          "output_type": "stream",
          "name": "stderr",
          "text": [
            "The attention mask and the pad token id were not set. As a consequence, you may observe unexpected behavior. Please pass your input's `attention_mask` to obtain reliable results.\n",
            "Setting `pad_token_id` to `eos_token_id`:5 for open-end generation.\n"
          ]
        },
        {
          "output_type": "stream",
          "name": "stdout",
          "text": [
            "Input text: دیروز به\n",
            "Predicted next word: اطلاعتان\n"
          ]
        }
      ]
    },
    {
      "cell_type": "markdown",
      "source": [
        "Generating Multiple Suggestions"
      ],
      "metadata": {
        "id": "OgqwC6VZw9aF"
      }
    },
    {
      "cell_type": "code",
      "source": [
        "def predict_next_words(input_text, model, tokenizer, normalizer, num_suggestions=5):\n",
        "    # Normalize the input text\n",
        "    normalized_text = normalizer.normalize(input_text)\n",
        "    # Encode the input text (TensorFlow expects `return_tensors='tf'`)\n",
        "    input_ids = tokenizer.encode(normalized_text, return_tensors='tf')\n",
        "    # Generate predictions\n",
        "    outputs = model.generate(\n",
        "        input_ids,\n",
        "        max_length=input_ids.shape[1] + 5,\n",
        "        do_sample=True,\n",
        "        top_k=50,\n",
        "        top_p=0.95,\n",
        "        num_return_sequences=num_suggestions\n",
        "    )\n",
        "    suggestions = []\n",
        "    for i in range(num_suggestions):\n",
        "        generated_text = tokenizer.decode(outputs[i], skip_special_tokens=True)\n",
        "        predicted_text = generated_text[len(normalized_text):].strip()\n",
        "        predicted_words = predicted_text.split()\n",
        "        next_word = predicted_words[0] if predicted_words else ''\n",
        "        suggestions.append(next_word)\n",
        "    # Remove duplicates and empty strings\n",
        "    suggestions = list(set(filter(None, suggestions)))\n",
        "    return suggestions\n",
        "\n",
        "# Example usage\n",
        "input_text = \"من با اطمینان\"\n",
        "suggestions = predict_next_words(input_text, model, tokenizer, normalizer, num_suggestions=5)\n",
        "print(f\"Input text: {input_text}\")\n",
        "print(\"Predicted next words:\", suggestions)"
      ],
      "metadata": {
        "colab": {
          "base_uri": "https://localhost:8080/"
        },
        "id": "yQzItXvaw-Fh",
        "outputId": "c4f68e1e-c07d-4c5e-82a6-ac26fb2e6554"
      },
      "execution_count": 42,
      "outputs": [
        {
          "output_type": "stream",
          "name": "stderr",
          "text": [
            "The attention mask and the pad token id were not set. As a consequence, you may observe unexpected behavior. Please pass your input's `attention_mask` to obtain reliable results.\n",
            "Setting `pad_token_id` to `eos_token_id`:5 for open-end generation.\n"
          ]
        },
        {
          "output_type": "stream",
          "name": "stdout",
          "text": [
            "Input text: من با اطمینان\n",
            "Predicted next words: ['می\\u200cگویم', 'زیادی', 'می\\u200cگوید:', 'می\\u200cگویند', 'خاطر']\n"
          ]
        }
      ]
    }
  ]
}